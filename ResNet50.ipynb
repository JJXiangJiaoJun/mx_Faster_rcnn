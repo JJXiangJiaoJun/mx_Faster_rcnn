{
 "cells": [
  {
   "cell_type": "code",
   "execution_count": 1,
   "metadata": {
    "scrolled": true
   },
   "outputs": [
    {
     "name": "stderr",
     "output_type": "stream",
     "text": [
      "C:\\Users\\lenovo\\Anaconda3\\lib\\site-packages\\h5py\\__init__.py:36: FutureWarning: Conversion of the second argument of issubdtype from `float` to `np.floating` is deprecated. In future, it will be treated as `np.float64 == np.dtype(float).type`.\n",
      "  from ._conv import register_converters as _register_converters\n"
     ]
    }
   ],
   "source": [
    "import mxnet as mx\n",
    "from mxnet import gluon,autograd,contrib,image,nd\n",
    "from mxnet.gluon import data as gdata,loss as gloss,nn\n",
    "import gluoncv\n",
    "import matplotlib as mpl\n",
    "import matplotlib.pyplot as plt\n",
    "import sys\n",
    "import time"
   ]
  },
  {
   "cell_type": "markdown",
   "metadata": {},
   "source": [
    "## 首先定义残差小块"
   ]
  },
  {
   "cell_type": "code",
   "execution_count": 10,
   "metadata": {},
   "outputs": [],
   "source": [
    "#定义Bottleneck用于搭建 resnet50\n",
    "def _conv3x3(channels,strides=1,in_channels=0):\n",
    "    return nn.Conv2D(channels=channels,kernel_size=3,strides=strides,padding=1,in_channels=in_channels)        "
   ]
  },
  {
   "cell_type": "code",
   "execution_count": 20,
   "metadata": {},
   "outputs": [],
   "source": [
    "class Bottleneck(nn.Block):\n",
    "    def __init__(self,channels,down_sample=True,strides=1,in_channels=0,**kwargs):\n",
    "        super(Bottleneck,self).__init__(**kwargs)\n",
    "        self.bn1 = nn.BatchNorm()\n",
    "        self.conv1 = nn.Conv2D(channels//4,kernel_size=1,strides=1,use_bias=False)\n",
    "        self.bn2 = nn.BatchNorm()\n",
    "        self.conv2 = _conv3x3(channels//4,strides,channels//4)\n",
    "        self.bn3 = nn.BatchNorm()\n",
    "        self.conv3 = nn.Conv2D(channels,kernel_size=1,strides=1,use_bias=False)\n",
    "        \n",
    "        if down_sample:\n",
    "            self.downsample = nn.Conv2D(channels,1,strides,use_bias=False,\n",
    "                                       in_channels=in_channels)\n",
    "        else:\n",
    "            self.downsample = None\n",
    "            \n",
    "    def forward(self,x):\n",
    "        residual = x\n",
    "        x = self.bn1(x)\n",
    "        x = nd.Activation(x,act_type='relu')\n",
    "        if self.downsample:\n",
    "            residual = self.downsample(x)\n",
    "        x = self.conv1(x)\n",
    "        \n",
    "        x = self.bn2(x)\n",
    "        x = nd.Activation(x,act_type='relu')\n",
    "        x = self.conv2(x)\n",
    "        \n",
    "        x = self.bn3(x)\n",
    "        x = nd.Activation(x,act_type = 'relu')\n",
    "        x = self.conv3(x)\n",
    "        \n",
    "        return x+residual"
   ]
  },
  {
   "cell_type": "code",
   "execution_count": 34,
   "metadata": {},
   "outputs": [],
   "source": [
    "def netforward(net):\n",
    "    x = nd.random.uniform(shape=(1,3,512,512))\n",
    "    net.initialize(force_reinit = True)\n",
    "    \n",
    "    print(\"x shape \",x.shape)\n",
    "    print('output shape',net(x).shape)"
   ]
  },
  {
   "cell_type": "code",
   "execution_count": 22,
   "metadata": {},
   "outputs": [
    {
     "name": "stdout",
     "output_type": "stream",
     "text": [
      "x shape  (1, 3, 256, 256)\n",
      "output shape (1, 64, 256, 256)\n"
     ]
    }
   ],
   "source": [
    "res_blk = Bottleneck(64)\n",
    "netforward(res_blk)"
   ]
  },
  {
   "cell_type": "markdown",
   "metadata": {},
   "source": [
    "##  定义resnet50"
   ]
  },
  {
   "cell_type": "code",
   "execution_count": 24,
   "metadata": {},
   "outputs": [],
   "source": [
    "#第一个channel为前面 7x7的输出\n",
    "num_blks = [3,4,6,3]\n",
    "num_channels = [64,256,512,1024,2048]"
   ]
  },
  {
   "cell_type": "code",
   "execution_count": 49,
   "metadata": {},
   "outputs": [],
   "source": [
    "class ResNetV2(nn.Block):\n",
    "    \n",
    "    def __init__(self,block,layers,channels,**kwargs):\n",
    "        super(ResNetV2,self).__init__(**kwargs)\n",
    "        assert len(layers) == len(channels) - 1\n",
    "        \n",
    "        self.features = nn.Sequential()\n",
    "        self.features.add(nn.BatchNorm(scale=False,center=False))\n",
    "        \n",
    "        self.features.add(nn.Conv2D(channels[0],7,2,3,use_bias=False))\n",
    "        self.features.add(nn.BatchNorm())\n",
    "        self.features.add(nn.Activation('relu'))\n",
    "        self.features.add(nn.MaxPool2D(3,2,1))\n",
    "        \n",
    "        in_channels = channels[0]\n",
    "        for i,num_blk in enumerate(layers):\n",
    "            stride = 1 if i==0 or i==len(layers)-1 else 2\n",
    "            self.features.add(self._make_layer(block,num_blk,channels[i+1],\n",
    "                                              stride,in_channels=in_channels\n",
    "                                              ))\n",
    "            in_channels = channels[i+1]\n",
    "    def _make_layer(self,block,layers,channels,stride,in_channels=0):\n",
    "        \n",
    "        layer = nn.Sequential()\n",
    "        #每个残差块第一个进行降采样\n",
    "        layer.add(block(channels,channels!=in_channels,stride,in_channels=in_channels))\n",
    "        \n",
    "        for _ in range(layers-1):\n",
    "            layer.add(block(channels,False,1,in_channels=channels))\n",
    "        \n",
    "        return layer\n",
    "    \n",
    "    def forward(self,x):\n",
    "        \n",
    "        return self.features(x)\n",
    "            \n",
    "        \n",
    "        "
   ]
  },
  {
   "cell_type": "code",
   "execution_count": 50,
   "metadata": {},
   "outputs": [],
   "source": [
    "resnet50 = ResNetV2(Bottleneck,num_blks,num_channels)"
   ]
  },
  {
   "cell_type": "code",
   "execution_count": 51,
   "metadata": {},
   "outputs": [
    {
     "name": "stdout",
     "output_type": "stream",
     "text": [
      "x shape  (1, 3, 512, 512)\n",
      "output shape (1, 2048, 32, 32)\n"
     ]
    }
   ],
   "source": [
    "netforward(resnet50)"
   ]
  },
  {
   "cell_type": "code",
   "execution_count": null,
   "metadata": {},
   "outputs": [],
   "source": []
  }
 ],
 "metadata": {
  "kernelspec": {
   "display_name": "Python3",
   "language": "python",
   "name": "python3"
  },
  "language_info": {
   "codemirror_mode": {
    "name": "ipython",
    "version": 3
   },
   "file_extension": ".py",
   "mimetype": "text/x-python",
   "name": "python",
   "nbconvert_exporter": "python",
   "pygments_lexer": "ipython3",
   "version": "3.6.4"
  }
 },
 "nbformat": 4,
 "nbformat_minor": 2
}
