{
 "cells": [
  {
   "cell_type": "code",
   "execution_count": null,
   "metadata": {
    "scrolled": true
   },
   "outputs": [],
   "source": [
    "import mxnet as mx\n",
    "from mxnet import gluon,autograd,contrib,image,nd\n",
    "from mxnet.gluon import data as gdata,loss as gloss,nn\n",
    "import gluoncv\n",
    "import matplotlib as mpl\n",
    "import matplotlib.pyplot as plt\n",
    "import sys\n",
    "import time\n",
    "import numpy as np"
   ]
  },
  {
   "cell_type": "markdown",
   "metadata": {},
   "source": [
    "## 定义RPN网络\n"
   ]
  },
  {
   "cell_type": "markdown",
   "metadata": {},
   "source": [
    "- 生成默认锚框\n",
    "- 两个1x1卷积预测层\n",
    "- 对生成的默认锚框进行采样"
   ]
  },
  {
   "cell_type": "code",
   "execution_count": null,
   "metadata": {},
   "outputs": [],
   "source": [
    "x = nd.array([[1,2],[3,4]])"
   ]
  },
  {
   "cell_type": "code",
   "execution_count": null,
   "metadata": {},
   "outputs": [],
   "source": [
    "y = nd.array([[5,6,8],[7,8,7]])"
   ]
  },
  {
   "cell_type": "code",
   "execution_count": null,
   "metadata": {},
   "outputs": [],
   "source": [
    "z = nd.stack(x,y,axis = 0)"
   ]
  },
  {
   "cell_type": "code",
   "execution_count": null,
   "metadata": {},
   "outputs": [],
   "source": [
    "width,height,stride =  5,5,2\n",
    "offset_x = np.arange(0, width * stride, stride)\n",
    "offset_y = np.arange(0, height * stride, stride)"
   ]
  },
  {
   "cell_type": "code",
   "execution_count": null,
   "metadata": {},
   "outputs": [],
   "source": [
    "offset_x, offset_y = np.meshgrid(offset_x, offset_y)"
   ]
  },
  {
   "cell_type": "code",
   "execution_count": null,
   "metadata": {},
   "outputs": [],
   "source": [
    "offset_x.ravel()"
   ]
  },
  {
   "cell_type": "code",
   "execution_count": null,
   "metadata": {},
   "outputs": [],
   "source": [
    "offsets = np.stack((offset_x.ravel(), offset_y.ravel(),\n",
    "                            offset_x.ravel(), offset_y.ravel()), axis=1)"
   ]
  },
  {
   "cell_type": "code",
   "execution_count": null,
   "metadata": {},
   "outputs": [],
   "source": [
    "offsets.shape"
   ]
  },
  {
   "cell_type": "code",
   "execution_count": null,
   "metadata": {},
   "outputs": [],
   "source": [
    "\"\"\"RPN网络 anchors\"\"\"\n",
    "\n",
    "import numpy as np\n",
    "from mxnet import gluon\n",
    "from mxnet import nd\n",
    "\n",
    "\n",
    "class RPNAnchorGenerator(gluon.Block):\n",
    "    \"\"\"\n",
    "    @输入参数\n",
    "    stride:int              \n",
    "        特征图的每个像素感受野大小，通常为原图和特征图尺寸比例\n",
    "    base_size:int           \n",
    "        默认大小\n",
    "    ratios:int              \n",
    "        宽高比\n",
    "    scales:int              \n",
    "        大小比例\n",
    "        \n",
    "        每个锚框为   width = base_size*size/sqrt(ratio)  \n",
    "                    height = base_size*size*sqrt(ratio)\n",
    "        \n",
    "    alloc_size:(int,int)          \n",
    "        默认的特征图大小(H,W)，以后每次生成直接索引切片\n",
    "    \"\"\"\n",
    "\n",
    "    def __init__(self, stride, base_size, ratios, scales, alloc_size, **kwargs):\n",
    "        super(RPNAnchorGenerator, self).__init__(**kwargs)\n",
    "        if not base_size:\n",
    "            raise ValueError(\"Invalid base_size: {}\".format(base_size))\n",
    "        # 防止非法输入\n",
    "        if not isinstance(ratios, (tuple, list)):\n",
    "            ratios = [ratios]\n",
    "        if not isinstance(scales, (tuple, list)):\n",
    "            scales = [scales]\n",
    "\n",
    "        # 每个像素的锚框数\n",
    "        self._num_depth = len(ratios) * len(scales)\n",
    "        # 预生成锚框\n",
    "        anchors = self._generate_anchors(stride, base_size, ratios, scales, alloc_size)\n",
    "        self.anchors = self.params.get_constant('anchor_', anchors)\n",
    "\n",
    "    def _generate_anchors(self, stride, base_size, ratios, scales, alloc_size):\n",
    "        # 计算中心点坐标\n",
    "        px, py = (base_size - 1) * 0.5, (base_size - 1) * 0.5\n",
    "        base_sizes = []\n",
    "        for r in ratios:\n",
    "            for s in scales:\n",
    "                size = base_size * base_size / r\n",
    "                ws = np.round(np.sqrt(size))\n",
    "                w = (ws * s - 1) * 0.5\n",
    "                h = (np.round(ws * r) * s - 1) * 0.5\n",
    "                base_sizes.append([px - w, py - h, px + w, py + h])\n",
    "        # 每个像素的锚框\n",
    "        base_sizes = np.array(base_sizes)\n",
    "\n",
    "        # 下面进行偏移量的生成\n",
    "        width, height = alloc_size\n",
    "        offset_x = np.arange(0, width * stride, stride)\n",
    "        offset_y = np.arange(0, height * stride, stride)\n",
    "        offset_x, offset_y = np.meshgrid(offset_x, offset_x)\n",
    "        # 生成(H*W,4)\n",
    "        offset = np.stack((offset_x.ravel(), offset_y.ravel(),\n",
    "                           offset_x.ravel(), offset_y.ravel()), axis=1)\n",
    "\n",
    "        # 下面广播到每一个anchor中    (1,N,4) + (M,1,4)\n",
    "        anchors = base_sizes.reshape((1, -1, 4)) + offset.reshape((-1, 1, 4))\n",
    "        anchors = anchors.reshape((1, 1, width, height, -1)).astype(np.float32)\n",
    "        return anchors\n",
    "\n",
    "    # 对原始生成的锚框进行切片操作\n",
    "    def forward(self, x):\n",
    "        # 切片索引\n",
    "        anchors = self.anchors.data()\n",
    "        a = nd.slice_like(anchors, x * 0, axes=(2, 3))\n",
    "        return a.reshape((1, -1, 4))"
   ]
  },
  {
   "cell_type": "code",
   "execution_count": null,
   "metadata": {},
   "outputs": [],
   "source": [
    "stride = 16\n",
    "base_size = 16\n",
    "ratios = [1,2,0.5]\n",
    "scales = [1,10,20]\n",
    "alloc_size = (56,56)"
   ]
  },
  {
   "cell_type": "code",
   "execution_count": null,
   "metadata": {},
   "outputs": [],
   "source": [
    "%pdb\n",
    "anchorge = RPNAnchorGenerator(stride,base_size,ratios,scales,alloc_size)"
   ]
  },
  {
   "cell_type": "code",
   "execution_count": null,
   "metadata": {},
   "outputs": [],
   "source": [
    "x = nd.random.uniform(shape=(1,3,16,16))"
   ]
  },
  {
   "cell_type": "code",
   "execution_count": null,
   "metadata": {},
   "outputs": [],
   "source": [
    "anchorge.anchors.value"
   ]
  },
  {
   "cell_type": "code",
   "execution_count": null,
   "metadata": {},
   "outputs": [],
   "source": [
    "x = nd.uniform(shape=(10,5))"
   ]
  },
  {
   "cell_type": "code",
   "execution_count": null,
   "metadata": {},
   "outputs": [],
   "source": [
    "nd.max(x,axis = 1).shape"
   ]
  },
  {
   "cell_type": "code",
   "execution_count": null,
   "metadata": {},
   "outputs": [],
   "source": [
    "y = nd.max(x,axis = 0, keepdims=True)"
   ]
  },
  {
   "cell_type": "code",
   "execution_count": null,
   "metadata": {},
   "outputs": [],
   "source": [
    "mask = nd.broadcast_greater(x+1e-5,y)"
   ]
  },
  {
   "cell_type": "code",
   "execution_count": null,
   "metadata": {},
   "outputs": [],
   "source": [
    "mask"
   ]
  },
  {
   "cell_type": "code",
   "execution_count": null,
   "metadata": {},
   "outputs": [],
   "source": [
    "\"\"\"Region Proposal 标注工具.\"\"\"\n",
    "from __future__ import absolute_import\n",
    "\n",
    "import numpy as np\n",
    "import mxnet as mx\n",
    "from mxnet import gluon, nd\n",
    "from mxnet import autograd\n",
    "\n",
    "\n",
    "class RPNTargetSampler(gluon.Block):\n",
    "    \"\"\"\n",
    "    @输入参数\n",
    "    num_sample  : int\n",
    "        RPN采样的训练样本总数\n",
    "    pos_iou_thresh  :   float\n",
    "        IOU 大于 pos_iou_thresh 的锚框将被视为正类\n",
    "    neg_iou_thresh  :   float\n",
    "        IOU 小于 neg_iou_thresh 的锚框将被视为负类\n",
    "    pos_ratio   :   float\n",
    "        采样输出中正样本比例，最终的正样本数量为 num_sample*pos_ratio\n",
    "    \"\"\"\n",
    "\n",
    "    def __init__(self, num_sample, pos_iou_thresh, neg_iou_thresh, pos_ratio, **kwargs):\n",
    "        super(RPNTargetSampler, self).__init__(**kwargs)\n",
    "        self._pos_iou_thresh = pos_iou_thresh\n",
    "        self._num_sample = num_sample\n",
    "        self._neg_iou_thresh = neg_iou_thresh\n",
    "        self._max_pos = int(np.round(pos_ratio * num_sample))\n",
    "        self._eps = np.spacing(np.float32(1.0))\n",
    "\n",
    "    \"\"\"\n",
    "    @输入参数\n",
    "    ious : ndarray  \n",
    "        (N,M) 通过box_iou 生成的交并比\n",
    "\n",
    "    @:return\n",
    "    samples :  ndarray\n",
    "        (N,)  采样的锚框                     1： pos  0:ignore    -1:neg\n",
    "    matches :   ndarray\n",
    "        (N,)   匹配的ground truth 索引       [0,M）\n",
    "\n",
    "    \"\"\"\n",
    "\n",
    "    def forward(self, ious):\n",
    "\n",
    "        matches = nd.argmax(ious, axis=-1)\n",
    "        # 每个锚框最高得分\n",
    "        max_iou_pre_anchor = nd.max(ious, axis=-1)\n",
    "        # 将所有锚框都初始化为0，ignore\n",
    "        samples = nd.zeros_like(max_iou_pre_anchor)\n",
    "\n",
    "        # 计算每个ground_truth 的最高iou\n",
    "        max_all_ious = nd.max(ious, axis=0, keepdims=True)\n",
    "        # 标记处mask中最高分值的那一行为1\n",
    "        mask = nd.broadcast_greater(ious + self._eps, max_all_ious)\n",
    "        mask = nd.sum(mask, axis=-1)\n",
    "        # 将最高分数的锚框标记为 1 正类\n",
    "        samples = nd.where(mask, nd.ones_like(samples), samples)\n",
    "\n",
    "        # 下面标记大于 pos_iou_thresh的样本为正例\n",
    "        samples = nd.where(max_iou_pre_anchor > self._pos_iou_thresh, nd.ones_like(samples), samples)\n",
    "\n",
    "        # 标记小于neg_iou_thresh的样本为负类\n",
    "        tmp = (max_iou_pre_anchor < self._neg_iou_thresh) * (max_iou_pre_anchor > 0)\n",
    "\n",
    "        samples = nd.where(tmp, nd.ones_like(samples) * -1, samples)\n",
    "        # 将其转换为 numnpy\n",
    "        samples = samples.asnumpy()\n",
    "        # 下面进行采样\n",
    "        # 首先对正样本进行采样\n",
    "        num_pos = int((samples > 0).sum())\n",
    "        if num_pos > self._max_pos:\n",
    "            discard_indices = np.random.choice(\n",
    "                np.where((samples > 0))[0], size=(num_pos - self._max_pos), replace=False\n",
    "            )\n",
    "            samples[discard_indices] = 0  # 将多余部分设置为忽略\n",
    "        num_neg = int((samples < 0).sum())\n",
    "        max_neg = self._num_sample - min(self._max_pos, num_pos)\n",
    "\n",
    "        if num_neg > max_neg:\n",
    "            discard_indices = np.random.choice(\n",
    "                np.where((samples < 0))[0], size=(num_neg - max_neg), replace=False\n",
    "            )\n",
    "            samples[discard_indices] = 0\n",
    "\n",
    "        # 最后将其转化为ndarray\n",
    "        samples = nd.array(samples, ctx=matches.context)\n",
    "        return samples, matches"
   ]
  },
  {
   "cell_type": "code",
   "execution_count": null,
   "metadata": {},
   "outputs": [],
   "source": [
    "num_sample = 10\n",
    "pos_iou_thresh = 0.7\n",
    "neg_iou_thresh = 0.3\n",
    "pos_ratio = 0.25"
   ]
  },
  {
   "cell_type": "code",
   "execution_count": null,
   "metadata": {},
   "outputs": [],
   "source": [
    "sampler = RPNTargetSampler(num_sample,pos_iou_thresh,neg_iou_thresh,pos_ratio)"
   ]
  },
  {
   "cell_type": "code",
   "execution_count": null,
   "metadata": {},
   "outputs": [],
   "source": [
    "ious = nd.random.uniform(shape=(50,5))"
   ]
  },
  {
   "cell_type": "code",
   "execution_count": null,
   "metadata": {},
   "outputs": [],
   "source": [
    "sam,mat=sampler(ious)"
   ]
  },
  {
   "cell_type": "code",
   "execution_count": null,
   "metadata": {},
   "outputs": [],
   "source": [
    "sam"
   ]
  },
  {
   "cell_type": "code",
   "execution_count": null,
   "metadata": {},
   "outputs": [],
   "source": [
    "import pdb\n",
    "pdb.set_trace()"
   ]
  },
  {
   "cell_type": "code",
   "execution_count": null,
   "metadata": {},
   "outputs": [],
   "source": [
    ""
   ]
  },
  {
   "cell_type": "code",
   "execution_count": null,
   "metadata": {},
   "outputs": [],
   "source": [
    ""
   ]
  }
 ],
 "metadata": {
  "kernelspec": {
   "display_name": "Python3",
   "language": "python",
   "name": "python3"
  },
  "language_info": {
   "codemirror_mode": {
    "name": "ipython",
    "version": 3.0
   },
   "file_extension": ".py",
   "mimetype": "text/x-python",
   "name": "python",
   "nbconvert_exporter": "python",
   "pygments_lexer": "ipython3",
   "version": "3.6.4"
  }
 },
 "nbformat": 4,
 "nbformat_minor": 0
}